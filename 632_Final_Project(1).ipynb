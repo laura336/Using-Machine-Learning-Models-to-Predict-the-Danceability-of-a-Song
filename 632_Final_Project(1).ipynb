{
  "cells": [
    {
      "cell_type": "code",
      "execution_count": 146,
      "metadata": {
        "id": "0EHUGKaAUxP9"
      },
      "outputs": [],
      "source": [
        "!apt-get install openjdk-8-jdk-headless -qq > /dev/null\n",
        "!wget -q https://archive.apache.org/dist/spark/spark-3.2.0/spark-3.2.0-bin-hadoop3.2.tgz\n",
        "!tar xf spark-3.2.0-bin-hadoop3.2.tgz"
      ]
    },
    {
      "cell_type": "code",
      "execution_count": 147,
      "metadata": {
        "id": "Z8c2XzUjVKBj"
      },
      "outputs": [],
      "source": [
        "# Setup Environment Variables\n",
        "import os\n",
        "os.environ[\"JAVA_HOME\"] = \"/usr/lib/jvm/java-8-openjdk-amd64\"\n",
        "os.environ[\"SPARK_HOME\"] = \"/content/spark-3.2.0-bin-hadoop3.2\""
      ]
    },
    {
      "cell_type": "code",
      "execution_count": 148,
      "metadata": {
        "colab": {
          "base_uri": "https://localhost:8080/"
        },
        "id": "ttqPUrrBVK9R",
        "outputId": "f8a733ca-c1b1-4465-8338-d10f16e8ef03"
      },
      "outputs": [
        {
          "output_type": "stream",
          "name": "stdout",
          "text": [
            "Requirement already satisfied: pyspark in /usr/local/lib/python3.7/dist-packages (3.2.1)\n",
            "Requirement already satisfied: py4j==0.10.9.3 in /usr/local/lib/python3.7/dist-packages (from pyspark) (0.10.9.3)\n"
          ]
        }
      ],
      "source": [
        "!pip install -q findspark\n",
        "!pip install pyspark"
      ]
    },
    {
      "cell_type": "code",
      "execution_count": 149,
      "metadata": {
        "id": "WhkFv7DWVNNL",
        "colab": {
          "base_uri": "https://localhost:8080/"
        },
        "outputId": "d473cf9d-6a38-4009-9079-c371a472f3a4"
      },
      "outputs": [
        {
          "output_type": "stream",
          "name": "stdout",
          "text": [
            "Drive already mounted at /content/gdrive; to attempt to forcibly remount, call drive.mount(\"/content/gdrive\", force_remount=True).\n"
          ]
        }
      ],
      "source": [
        "from google.colab import drive\n",
        "drive.mount('/content/gdrive')"
      ]
    },
    {
      "cell_type": "code",
      "execution_count": 150,
      "metadata": {
        "id": "zrbgTgvEVPHT"
      },
      "outputs": [],
      "source": [
        "from pyspark.sql import SparkSession"
      ]
    },
    {
      "cell_type": "code",
      "execution_count": 151,
      "metadata": {
        "id": "_XmD9yuaVRSa"
      },
      "outputs": [],
      "source": [
        "APP_NAME = \"Final_Project\""
      ]
    },
    {
      "cell_type": "code",
      "execution_count": 152,
      "metadata": {
        "id": "5V6ZtZYQVX9T"
      },
      "outputs": [],
      "source": [
        "spark = SparkSession.builder.appName(APP_NAME).getOrCreate()"
      ]
    },
    {
      "cell_type": "code",
      "execution_count": 153,
      "metadata": {
        "id": "Lo7ji3UrVYAv",
        "colab": {
          "base_uri": "https://localhost:8080/",
          "height": 222
        },
        "outputId": "fea41e9a-9d68-4677-cabe-2a8adfac9d61"
      },
      "outputs": [
        {
          "output_type": "execute_result",
          "data": {
            "text/html": [
              "\n",
              "            <div>\n",
              "                <p><b>SparkSession - in-memory</b></p>\n",
              "                \n",
              "        <div>\n",
              "            <p><b>SparkContext</b></p>\n",
              "\n",
              "            <p><a href=\"http://38b7c77bae03:4040\">Spark UI</a></p>\n",
              "\n",
              "            <dl>\n",
              "              <dt>Version</dt>\n",
              "                <dd><code>v3.2.0</code></dd>\n",
              "              <dt>Master</dt>\n",
              "                <dd><code>local[*]</code></dd>\n",
              "              <dt>AppName</dt>\n",
              "                <dd><code>Final_Project</code></dd>\n",
              "            </dl>\n",
              "        </div>\n",
              "        \n",
              "            </div>\n",
              "        "
            ],
            "text/plain": [
              "<pyspark.sql.session.SparkSession at 0x7fd8f987bd10>"
            ]
          },
          "metadata": {},
          "execution_count": 153
        }
      ],
      "source": [
        "spark"
      ]
    },
    {
      "cell_type": "markdown",
      "metadata": {
        "id": "HBfYFr69Qvlp"
      },
      "source": [
        "EDA"
      ]
    },
    {
      "cell_type": "code",
      "source": [
        "#import dependencies\n",
        "from google.colab import files\n",
        "from pyspark.sql.functions import isnan, when, count, col\n",
        "from pyspark.sql.functions import asc\n",
        "import matplotlib.pyplot as plt\n",
        "import seaborn as sns\n",
        "from pyspark.ml.feature import OneHotEncoder\n",
        "from pyspark.ml import Pipeline\n",
        "from pyspark.ml.feature import StringIndexer\n",
        "from pyspark.ml.feature import VectorAssembler\n",
        "from pyspark.sql.functions import col\n",
        "from pyspark.sql.types import IntegerType\n",
        "from pyspark.sql.functions import when, lit, col\n",
        "from pyspark.ml.classification import LogisticRegression\n",
        "from pyspark.ml.evaluation import BinaryClassificationEvaluator\n",
        "from pyspark.ml.tuning import CrossValidator, ParamGridBuilder\n",
        "import numpy as np\n",
        "from pyspark.mllib.classification import LogisticRegressionWithLBFGS\n",
        "from pyspark.mllib.evaluation import BinaryClassificationMetrics\n",
        "from pyspark.mllib.util import MLUtils\n",
        "import sklearn.metrics as metrics\n",
        "from sklearn.metrics import roc_auc_score\n",
        "from pyspark.ml.evaluation import MulticlassClassificationEvaluator\n",
        "from pyspark.sql import SparkSession \n",
        "from pyspark.sql.functions import * \n",
        "from pyspark.ml.classification import NaiveBayes \n",
        "from pyspark.ml.classification import LinearSVC\n"
      ],
      "metadata": {
        "id": "PELD6fDzxv3j"
      },
      "execution_count": 154,
      "outputs": []
    },
    {
      "cell_type": "code",
      "execution_count": 155,
      "metadata": {
        "id": "svD-5VWzVYGA",
        "colab": {
          "resources": {
            "http://localhost:8080/nbextensions/google.colab/files.js": {
              "data": "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",
              "ok": true,
              "headers": [
                [
                  "content-type",
                  "application/javascript"
                ]
              ],
              "status": 200,
              "status_text": "OK"
            }
          },
          "base_uri": "https://localhost:8080/",
          "height": 74
        },
        "outputId": "db695836-da48-4fa1-e511-fa5138cf4ac8"
      },
      "outputs": [
        {
          "output_type": "display_data",
          "data": {
            "text/html": [
              "\n",
              "     <input type=\"file\" id=\"files-0f40de12-7450-4d0c-8eab-9a1b6900e49e\" name=\"files[]\" multiple disabled\n",
              "        style=\"border:none\" />\n",
              "     <output id=\"result-0f40de12-7450-4d0c-8eab-9a1b6900e49e\">\n",
              "      Upload widget is only available when the cell has been executed in the\n",
              "      current browser session. Please rerun this cell to enable.\n",
              "      </output>\n",
              "      <script src=\"/nbextensions/google.colab/files.js\"></script> "
            ],
            "text/plain": [
              "<IPython.core.display.HTML object>"
            ]
          },
          "metadata": {}
        },
        {
          "output_type": "stream",
          "name": "stdout",
          "text": [
            "Saving song_data.csv to song_data (3).csv\n"
          ]
        }
      ],
      "source": [
        "#uploading the song data file\n",
        "uploaded = files.upload()"
      ]
    },
    {
      "cell_type": "code",
      "execution_count": 156,
      "metadata": {
        "id": "6yLWzt_lQ1yD",
        "colab": {
          "base_uri": "https://localhost:8080/"
        },
        "outputId": "1302707c-7af6-4115-d5d5-a37720966509"
      },
      "outputs": [
        {
          "output_type": "stream",
          "name": "stdout",
          "text": [
            "+--------------------+---------------+----------------+------------+------------+------+----------------+---+--------+--------+----------+-----------+-------+--------------+-------------+\n",
            "|           song_name|song_popularity|song_duration_ms|acousticness|danceability|energy|instrumentalness|key|liveness|loudness|audio_mode|speechiness|  tempo|time_signature|audio_valence|\n",
            "+--------------------+---------------+----------------+------------+------------+------+----------------+---+--------+--------+----------+-----------+-------+--------------+-------------+\n",
            "|Boulevard of Brok...|             73|          262333|     0.00552|       0.496| 0.682|         2.94E-5|  8|  0.0589|  -4.095|       1.0|     0.0294| 167.06|           4.0|        0.474|\n",
            "|          In The End|             66|          216933|      0.0103|       0.542| 0.853|             0.0|  3|   0.108|  -6.407|       0.0|     0.0498|105.256|           4.0|         0.37|\n",
            "|   Seven Nation Army|             76|          231733|     0.00817|       0.737| 0.463|           0.447|  0|   0.255|  -7.828|       1.0|     0.0792|123.881|           4.0|        0.324|\n",
            "|          By The Way|             74|          216933|      0.0264|       0.451|  0.97|         0.00355|  0|   0.102|  -4.938|       1.0|      0.107|122.444|           4.0|        0.198|\n",
            "|   How You Remind Me|             56|          223826|     9.54E-4|       0.447| 0.766|             0.0| 10|   0.113|  -5.065|       1.0|     0.0313|172.011|           4.0|        0.574|\n",
            "+--------------------+---------------+----------------+------------+------------+------+----------------+---+--------+--------+----------+-----------+-------+--------------+-------------+\n",
            "only showing top 5 rows\n",
            "\n"
          ]
        }
      ],
      "source": [
        "#turning the file into a pyspark dataframe\n",
        "infer_schema = \"true\"\n",
        "first_row_is_header = \"true\"\n",
        "delimiter = \",\"\n",
        "file_type = \"csv\"\n",
        "\n",
        "df = spark.read.format(file_type) \\\n",
        "  .option(\"inferSchema\", infer_schema) \\\n",
        "  .option(\"header\", first_row_is_header) \\\n",
        "  .option(\"sep\", delimiter).csv(\"song_data.csv\")\n",
        "  \n",
        "df.show(5)"
      ]
    },
    {
      "cell_type": "code",
      "execution_count": 157,
      "metadata": {
        "id": "Om1thsSMRI7U",
        "colab": {
          "base_uri": "https://localhost:8080/"
        },
        "outputId": "875c96c3-fa27-47e3-9646-df1e6c2ad0db"
      },
      "outputs": [
        {
          "output_type": "stream",
          "name": "stdout",
          "text": [
            "root\n",
            " |-- song_name: string (nullable = true)\n",
            " |-- song_popularity: string (nullable = true)\n",
            " |-- song_duration_ms: integer (nullable = true)\n",
            " |-- acousticness: double (nullable = true)\n",
            " |-- danceability: double (nullable = true)\n",
            " |-- energy: double (nullable = true)\n",
            " |-- instrumentalness: double (nullable = true)\n",
            " |-- key: integer (nullable = true)\n",
            " |-- liveness: double (nullable = true)\n",
            " |-- loudness: double (nullable = true)\n",
            " |-- audio_mode: double (nullable = true)\n",
            " |-- speechiness: double (nullable = true)\n",
            " |-- tempo: double (nullable = true)\n",
            " |-- time_signature: double (nullable = true)\n",
            " |-- audio_valence: double (nullable = true)\n",
            "\n"
          ]
        }
      ],
      "source": [
        "df.printSchema()"
      ]
    },
    {
      "cell_type": "code",
      "execution_count": 158,
      "metadata": {
        "id": "l-f_VgzLIiYx",
        "colab": {
          "base_uri": "https://localhost:8080/"
        },
        "outputId": "aae5ff08-a823-4936-a131-accc98680328"
      },
      "outputs": [
        {
          "output_type": "stream",
          "name": "stdout",
          "text": [
            "+--------------------+---------------+----------------+------------+------------+------+----------------+---+--------+--------+----------+-----------+-------+--------------+-------------+\n",
            "|           song_name|song_popularity|song_duration_ms|acousticness|danceability|energy|instrumentalness|key|liveness|loudness|audio_mode|speechiness|  tempo|time_signature|audio_valence|\n",
            "+--------------------+---------------+----------------+------------+------------+------+----------------+---+--------+--------+----------+-----------+-------+--------------+-------------+\n",
            "|Boulevard of Brok...|             73|          262333|     0.00552|       0.496| 0.682|         2.94E-5|  8|  0.0589|  -4.095|       1.0|     0.0294| 167.06|           4.0|        0.474|\n",
            "|          In The End|             66|          216933|      0.0103|       0.542| 0.853|             0.0|  3|   0.108|  -6.407|       0.0|     0.0498|105.256|           4.0|         0.37|\n",
            "|   Seven Nation Army|             76|          231733|     0.00817|       0.737| 0.463|           0.447|  0|   0.255|  -7.828|       1.0|     0.0792|123.881|           4.0|        0.324|\n",
            "|          By The Way|             74|          216933|      0.0264|       0.451|  0.97|         0.00355|  0|   0.102|  -4.938|       1.0|      0.107|122.444|           4.0|        0.198|\n",
            "|   How You Remind Me|             56|          223826|     9.54E-4|       0.447| 0.766|             0.0| 10|   0.113|  -5.065|       1.0|     0.0313|172.011|           4.0|        0.574|\n",
            "+--------------------+---------------+----------------+------------+------------+------+----------------+---+--------+--------+----------+-----------+-------+--------------+-------------+\n",
            "only showing top 5 rows\n",
            "\n"
          ]
        }
      ],
      "source": [
        "df.show(5)"
      ]
    },
    {
      "cell_type": "code",
      "execution_count": 159,
      "metadata": {
        "id": "DHVQbJttRRwM",
        "colab": {
          "base_uri": "https://localhost:8080/"
        },
        "outputId": "544c4514-c20f-4c21-f57e-c05788611e1c"
      },
      "outputs": [
        {
          "output_type": "stream",
          "name": "stdout",
          "text": [
            "+-------+--------------------+------------------+-----------------+------------------+-------------------+-------------------+-------------------+------------------+-------------------+------------------+-------------------+-------------------+------------------+------------------+-------------------+\n",
            "|summary|           song_name|   song_popularity| song_duration_ms|      acousticness|       danceability|             energy|   instrumentalness|               key|           liveness|          loudness|         audio_mode|        speechiness|             tempo|    time_signature|      audio_valence|\n",
            "+-------+--------------------+------------------+-----------------+------------------+-------------------+-------------------+-------------------+------------------+-------------------+------------------+-------------------+-------------------+------------------+------------------+-------------------+\n",
            "|  count|               18835|             18835|            18835|             18835|              18835|              18835|              18835|             18835|              18835|             18835|              18835|              18835|             18835|             18835|              18835|\n",
            "|   mean|  1326.2595454545456|  52.9923542529468|218200.9466418901|10.901804290658779| 0.6333157685160633| 0.6449863148393977|0.07805401708202785| 5.288664719936289|0.18016312715688898|-7.447095460578732| 0.6278179984072206|0.10209740376957784|121.06800548978006| 3.964056809131936| 0.5281348606317999|\n",
            "| stddev|   834.3509329079735|21.906137894430817|59908.49582286088|1460.6876617682003|0.15677021445076092|0.21409517650905746|0.22166425413323015|3.6146370545743296|0.16078023016762374|3.8282382680320395|0.48573473127341993|0.10437989610147251|28.727462320591464|0.7408256947155972|0.24592613335367638|\n",
            "|    min|\"\"\"40\"\" - Live Ve...|            USA\"\"\"|               44|           1.02E-6|                0.0|            0.00107|                0.0|                 0|             0.0109|           -38.768|             -6.048|                0.0|               0.0|               0.0|                0.0|\n",
            "|    max|          피 땀 눈물|                99|          1799346|          200466.0|              0.987|              0.999|              0.997|                11|               10.0|             1.585|                1.0|              0.941|           242.318|             97.01|                4.0|\n",
            "+-------+--------------------+------------------+-----------------+------------------+-------------------+-------------------+-------------------+------------------+-------------------+------------------+-------------------+-------------------+------------------+------------------+-------------------+\n",
            "\n"
          ]
        }
      ],
      "source": [
        "df.describe().show()"
      ]
    },
    {
      "cell_type": "code",
      "execution_count": 160,
      "metadata": {
        "id": "VHS-USR1UzI7",
        "colab": {
          "base_uri": "https://localhost:8080/"
        },
        "outputId": "b77fe88d-0a09-45d9-fc8b-c3edce409a38"
      },
      "outputs": [
        {
          "output_type": "stream",
          "name": "stdout",
          "text": [
            "+---------+---------------+----------------+------------+------------+------+----------------+---+--------+--------+----------+-----------+-----+--------------+-------------+\n",
            "|song_name|song_popularity|song_duration_ms|acousticness|danceability|energy|instrumentalness|key|liveness|loudness|audio_mode|speechiness|tempo|time_signature|audio_valence|\n",
            "+---------+---------------+----------------+------------+------------+------+----------------+---+--------+--------+----------+-----------+-----+--------------+-------------+\n",
            "|        0|              0|               0|           0|           0|     0|               0|  0|       0|       0|         0|          0|    0|             0|            0|\n",
            "+---------+---------------+----------------+------------+------------+------+----------------+---+--------+--------+----------+-----------+-----+--------------+-------------+\n",
            "\n"
          ]
        }
      ],
      "source": [
        "df.select([count(when(isnan(c), c)).alias(c) for c in df.columns]).show()"
      ]
    },
    {
      "cell_type": "code",
      "execution_count": 161,
      "metadata": {
        "id": "VF45OyMyLJ0E",
        "colab": {
          "base_uri": "https://localhost:8080/"
        },
        "outputId": "5d83003e-0e2d-4b79-f355-9032279e1c4f"
      },
      "outputs": [
        {
          "output_type": "stream",
          "name": "stdout",
          "text": [
            "+--------------------+---------------+----------------+------------+------------+------+----------------+---+--------+--------+----------+-----------+-------+--------------+-------------+\n",
            "|           song_name|song_popularity|song_duration_ms|acousticness|danceability|energy|instrumentalness|key|liveness|loudness|audio_mode|speechiness|  tempo|time_signature|audio_valence|\n",
            "+--------------------+---------------+----------------+------------+------------+------+----------------+---+--------+--------+----------+-----------+-------+--------------+-------------+\n",
            "|Gina Rodriguez - ...|              0|           12000|         0.7|         0.0| 0.493|             0.0|  7|   0.457|  -6.102|       1.0|        0.0|    0.0|           0.0|          0.0|\n",
            "|                Aura|             50|          102536|      0.0774|         0.0|  0.56|           0.963| 11|   0.589|  -9.866|       1.0|        0.0|    0.0|           0.0|          0.0|\n",
            "|   Portugal (A Lift)|             47|          408085|       0.663|      0.0594| 0.216|           0.918|  8|  0.0451| -19.883|       1.0|     0.0493| 54.213|           4.0|       0.0243|\n",
            "|       Holland, 1945|             60|          192533|      0.0399|      0.0617| 0.887|         1.57E-4|  7|   0.619|  -4.305|       1.0|     0.0636|198.592|           4.0|         0.48|\n",
            "|              Equity|             49|          255071|       0.988|      0.0625|0.0179|           0.974|  4|  0.0573| -38.768|       1.0|     0.0416| 70.012|           5.0|       0.0352|\n",
            "|               Words|             49|          350752|       0.974|       0.066|0.0176|           0.904|  4|  0.0956| -32.195|       0.0|     0.0602| 61.941|           4.0|       0.0312|\n",
            "|             Bohemia|              3|          315973|       0.369|      0.0674| 0.382|            0.88|  0|  0.0895| -10.525|       1.0|      0.039| 74.661|           4.0|       0.0368|\n",
            "|       Space Travels|             47|          209615|       0.972|      0.0684| 0.284|           0.886|  6|   0.127| -17.221|       0.0|     0.0443| 77.651|           4.0|       0.0292|\n",
            "|  Chasing Cloud Nine|             70|          162407|       0.981|      0.0722|0.0619|           0.968|  5|   0.373| -27.257|       1.0|     0.0421| 75.183|           3.0|       0.0722|\n",
            "|         Nijidion 01|             43|          210025|       0.391|       0.081|0.0989|           0.884| 11|  0.0869| -14.633|       1.0|     0.0418|168.813|           4.0|        0.023|\n",
            "+--------------------+---------------+----------------+------------+------------+------+----------------+---+--------+--------+----------+-----------+-------+--------------+-------------+\n",
            "only showing top 10 rows\n",
            "\n"
          ]
        }
      ],
      "source": [
        "df.sort(asc(\"danceability\")).show(10)"
      ]
    },
    {
      "cell_type": "code",
      "execution_count": 162,
      "metadata": {
        "id": "npntnWZY5_Hl",
        "colab": {
          "base_uri": "https://localhost:8080/"
        },
        "outputId": "65e2db48-b056-4bf7-ffaf-607c11ab6bc4"
      },
      "outputs": [
        {
          "output_type": "execute_result",
          "data": {
            "text/plain": [
              "6"
            ]
          },
          "metadata": {},
          "execution_count": 162
        }
      ],
      "source": [
        "df.select('time_signature').distinct().count()"
      ]
    },
    {
      "cell_type": "code",
      "source": [
        "#Danceabilities Deviation\n",
        "quantile = df.approxQuantile(['danceability'], [0.25, 0.5, 0.75], 0)\n",
        "quantile_25 = quantile[0][0]\n",
        "quantile_50 = quantile[0][1]\n",
        "quantile_75 = quantile[0][2]\n",
        "print('danceability_25: '+str(quantile_25))\n",
        "print('danceability_50: '+str(quantile_50))\n",
        "print('danceability_75: '+str(quantile_75))"
      ],
      "metadata": {
        "colab": {
          "base_uri": "https://localhost:8080/"
        },
        "id": "cYrEe9cEanEp",
        "outputId": "57a3ccda-2744-49bb-948a-1556094f3d39"
      },
      "execution_count": 163,
      "outputs": [
        {
          "output_type": "stream",
          "name": "stdout",
          "text": [
            "danceability_25: 0.533\n",
            "danceability_50: 0.645\n",
            "danceability_75: 0.748\n"
          ]
        }
      ]
    },
    {
      "cell_type": "code",
      "execution_count": 164,
      "metadata": {
        "id": "sfCnhwhVbFXl",
        "colab": {
          "base_uri": "https://localhost:8080/"
        },
        "outputId": "a9d8a105-7e6e-41ce-aff5-ab7977679a72"
      },
      "outputs": [
        {
          "output_type": "stream",
          "name": "stdout",
          "text": [
            "audio_valence_quantile_25: 0.335\n",
            "audio_valence_quantile_50: 0.527\n",
            "audio_valence_quantile_75: 0.725\n"
          ]
        }
      ],
      "source": [
        "#Audio Valence Deviation\n",
        "quantile = df.approxQuantile(['audio_valence'], [0.25, 0.5, 0.75], 0)\n",
        "quantile_25 = quantile[0][0]\n",
        "quantile_50 = quantile[0][1]\n",
        "quantile_75 = quantile[0][2]\n",
        "print('audio_valence_quantile_25: '+str(quantile_25))\n",
        "print('audio_valence_quantile_50: '+str(quantile_50))\n",
        "print('audio_valence_quantile_75: '+str(quantile_75))"
      ]
    },
    {
      "cell_type": "code",
      "execution_count": 165,
      "metadata": {
        "id": "v6vHl80EBYoM",
        "colab": {
          "base_uri": "https://localhost:8080/"
        },
        "outputId": "634c2d08-2b69-4c09-b39a-30d36302e0e4"
      },
      "outputs": [
        {
          "output_type": "stream",
          "name": "stdout",
          "text": [
            "+-----------------+\n",
            "|max(danceability)|\n",
            "+-----------------+\n",
            "|            0.987|\n",
            "+-----------------+\n",
            "\n"
          ]
        }
      ],
      "source": [
        "df.agg({'danceability': 'max'}).show()"
      ]
    },
    {
      "cell_type": "code",
      "execution_count": 166,
      "metadata": {
        "id": "jlf_pZ7XY5O_",
        "colab": {
          "base_uri": "https://localhost:8080/",
          "height": 354
        },
        "outputId": "652f9e08-902f-4a7a-a60e-1c60b5910867"
      },
      "outputs": [
        {
          "output_type": "stream",
          "name": "stderr",
          "text": [
            "/usr/local/lib/python3.7/dist-packages/seaborn/distributions.py:2619: FutureWarning: `distplot` is a deprecated function and will be removed in a future version. Please adapt your code to use either `displot` (a figure-level function with similar flexibility) or `histplot` (an axes-level function for histograms).\n",
            "  warnings.warn(msg, FutureWarning)\n"
          ]
        },
        {
          "output_type": "execute_result",
          "data": {
            "text/plain": [
              "<matplotlib.axes._subplots.AxesSubplot at 0x7fd8e22a8590>"
            ]
          },
          "metadata": {},
          "execution_count": 166
        },
        {
          "output_type": "display_data",
          "data": {
            "image/png": "[encoded data removed]",
            "text/plain": [
              "<Figure size 432x288 with 1 Axes>"
            ]
          },
          "metadata": {
            "needs_background": "light"
          }
        }
      ],
      "source": [
        "#the distribution of the dancability column\n",
        "dfPandas = df.toPandas()\n",
        "sns.distplot (dfPandas.danceability, color = 'g', bins = 15)"
      ]
    },
    {
      "cell_type": "code",
      "execution_count": 167,
      "metadata": {
        "id": "8KoJ8aijcI3D",
        "colab": {
          "base_uri": "https://localhost:8080/",
          "height": 295
        },
        "outputId": "8f956eed-3a89-4c80-9130-60e2ee834d10"
      },
      "outputs": [
        {
          "output_type": "display_data",
          "data": {
            "image/png": "[encoded data removed]",
            "text/plain": [
              "<Figure size 432x288 with 1 Axes>"
            ]
          },
          "metadata": {
            "needs_background": "light"
          }
        }
      ],
      "source": [
        "ax = dfPandas.plot(kind='scatter', x= 'danceability', y = 'audio_valence', c='teal', alpha = 0.10)\n",
        "ax.set_title('Danceability vs. Audio Valence')\n",
        "ax.set_xlabel('Danceability')\n",
        "ax.set_ylabel('Audio Valence')\n",
        "plt.axis([0, 1, -0, 1])\n",
        "plt.suptitle('')\n",
        "plt.show()"
      ]
    },
    {
      "cell_type": "code",
      "execution_count": 168,
      "metadata": {
        "id": "GM6UGghPbiaP",
        "colab": {
          "base_uri": "https://localhost:8080/",
          "height": 368
        },
        "outputId": "73bb0076-0dbf-455a-c6a3-5533d47b8f8f"
      },
      "outputs": [
        {
          "output_type": "execute_result",
          "data": {
            "text/plain": [
              "<matplotlib.axes._subplots.AxesSubplot at 0x7fd8e2eee7d0>"
            ]
          },
          "metadata": {},
          "execution_count": 168
        },
        {
          "output_type": "display_data",
          "data": {
            "image/png": "[encoded data removed]",
            "text/plain": [
              "<Figure size 432x288 with 2 Axes>"
            ]
          },
          "metadata": {
            "needs_background": "light"
          }
        }
      ],
      "source": [
        "sns.heatmap(dfPandas.corr())"
      ]
    },
    {
      "cell_type": "markdown",
      "metadata": {
        "id": "s2Vy5SyLvVUT"
      },
      "source": [
        "Methodology"
      ]
    },
    {
      "cell_type": "code",
      "execution_count": 169,
      "metadata": {
        "id": "mv5ERcg3xry-",
        "colab": {
          "base_uri": "https://localhost:8080/"
        },
        "outputId": "c8b86ddd-7e1a-4709-c802-76e080f02a32"
      },
      "outputs": [
        {
          "output_type": "stream",
          "name": "stdout",
          "text": [
            "+--------------------+---------------+----------------+------------+------------+------+----------------+---+--------+--------+----------+-----------+-------+--------------+-------------+\n",
            "|           song_name|song_popularity|song_duration_ms|acousticness|danceability|energy|instrumentalness|key|liveness|loudness|audio_mode|speechiness|  tempo|time_signature|audio_valence|\n",
            "+--------------------+---------------+----------------+------------+------------+------+----------------+---+--------+--------+----------+-----------+-------+--------------+-------------+\n",
            "|Boulevard of Brok...|             73|          262333|     0.00552|       0.496| 0.682|         2.94E-5|  8|  0.0589|  -4.095|       1.0|     0.0294| 167.06|           4.0|        0.474|\n",
            "|          In The End|             66|          216933|      0.0103|       0.542| 0.853|             0.0|  3|   0.108|  -6.407|       0.0|     0.0498|105.256|           4.0|         0.37|\n",
            "|   Seven Nation Army|             76|          231733|     0.00817|       0.737| 0.463|           0.447|  0|   0.255|  -7.828|       1.0|     0.0792|123.881|           4.0|        0.324|\n",
            "|          By The Way|             74|          216933|      0.0264|       0.451|  0.97|         0.00355|  0|   0.102|  -4.938|       1.0|      0.107|122.444|           4.0|        0.198|\n",
            "|   How You Remind Me|             56|          223826|     9.54E-4|       0.447| 0.766|             0.0| 10|   0.113|  -5.065|       1.0|     0.0313|172.011|           4.0|        0.574|\n",
            "+--------------------+---------------+----------------+------------+------------+------+----------------+---+--------+--------+----------+-----------+-------+--------------+-------------+\n",
            "only showing top 5 rows\n",
            "\n"
          ]
        }
      ],
      "source": [
        "df.show(5)"
      ]
    },
    {
      "cell_type": "code",
      "execution_count": 170,
      "metadata": {
        "id": "CUUKVLeiwJ88",
        "colab": {
          "base_uri": "https://localhost:8080/"
        },
        "outputId": "ec3f1900-dc0a-479e-d382-f132690bc844"
      },
      "outputs": [
        {
          "output_type": "stream",
          "name": "stdout",
          "text": [
            "+---------------+----------------+------------+------------+------+----------------+---+--------+--------+----------+-----------+-------+--------------+-------------+\n",
            "|song_popularity|song_duration_ms|acousticness|danceability|energy|instrumentalness|key|liveness|loudness|audio_mode|speechiness|  tempo|time_signature|audio_valence|\n",
            "+---------------+----------------+------------+------------+------+----------------+---+--------+--------+----------+-----------+-------+--------------+-------------+\n",
            "|             73|          262333|     0.00552|       0.496| 0.682|         2.94E-5|  8|  0.0589|  -4.095|       1.0|     0.0294| 167.06|           4.0|        0.474|\n",
            "|             66|          216933|      0.0103|       0.542| 0.853|             0.0|  3|   0.108|  -6.407|       0.0|     0.0498|105.256|           4.0|         0.37|\n",
            "|             76|          231733|     0.00817|       0.737| 0.463|           0.447|  0|   0.255|  -7.828|       1.0|     0.0792|123.881|           4.0|        0.324|\n",
            "|             74|          216933|      0.0264|       0.451|  0.97|         0.00355|  0|   0.102|  -4.938|       1.0|      0.107|122.444|           4.0|        0.198|\n",
            "|             56|          223826|     9.54E-4|       0.447| 0.766|             0.0| 10|   0.113|  -5.065|       1.0|     0.0313|172.011|           4.0|        0.574|\n",
            "+---------------+----------------+------------+------------+------+----------------+---+--------+--------+----------+-----------+-------+--------------+-------------+\n",
            "only showing top 5 rows\n",
            "\n"
          ]
        }
      ],
      "source": [
        "df = df.drop(\"song_name\")\n",
        "df.show(5)"
      ]
    },
    {
      "cell_type": "code",
      "execution_count": 171,
      "metadata": {
        "id": "d_zaYORJya6P",
        "colab": {
          "base_uri": "https://localhost:8080/"
        },
        "outputId": "18e90c7b-fb1d-4a02-8859-1830befa3fb1"
      },
      "outputs": [
        {
          "output_type": "stream",
          "name": "stdout",
          "text": [
            "root\n",
            " |-- song_popularity: integer (nullable = true)\n",
            " |-- song_duration_ms: integer (nullable = true)\n",
            " |-- acousticness: double (nullable = true)\n",
            " |-- danceability: double (nullable = true)\n",
            " |-- energy: double (nullable = true)\n",
            " |-- instrumentalness: double (nullable = true)\n",
            " |-- key: integer (nullable = true)\n",
            " |-- liveness: double (nullable = true)\n",
            " |-- loudness: double (nullable = true)\n",
            " |-- audio_mode: double (nullable = true)\n",
            " |-- speechiness: double (nullable = true)\n",
            " |-- tempo: double (nullable = true)\n",
            " |-- time_signature: double (nullable = true)\n",
            " |-- audio_valence: double (nullable = true)\n",
            "\n"
          ]
        }
      ],
      "source": [
        "df = df.withColumn(\"song_popularity\",col(\"song_popularity\").cast(IntegerType())) \n",
        "df.printSchema()"
      ]
    },
    {
      "cell_type": "code",
      "execution_count": 172,
      "metadata": {
        "id": "qqtSdiBk8-ZD",
        "colab": {
          "base_uri": "https://localhost:8080/"
        },
        "outputId": "f3ab756f-84fa-4762-b883-0bfb31804f20"
      },
      "outputs": [
        {
          "output_type": "stream",
          "name": "stdout",
          "text": [
            "+---------------+----------------+------------+------------+------+----------------+---+--------+--------+----------+-----------+-------+--------------+-------------+\n",
            "|song_popularity|song_duration_ms|acousticness|danceability|energy|instrumentalness|key|liveness|loudness|audio_mode|speechiness|tempo  |time_signature|audio_valence|\n",
            "+---------------+----------------+------------+------------+------+----------------+---+--------+--------+----------+-----------+-------+--------------+-------------+\n",
            "|73             |262333          |0.00552     |0           |0.682 |2.94E-5         |8  |0.0589  |-4.095  |1.0       |0.0294     |167.06 |4.0           |0.474        |\n",
            "|66             |216933          |0.0103      |0           |0.853 |0.0             |3  |0.108   |-6.407  |0.0       |0.0498     |105.256|4.0           |0.37         |\n",
            "|76             |231733          |0.00817     |1           |0.463 |0.447           |0  |0.255   |-7.828  |1.0       |0.0792     |123.881|4.0           |0.324        |\n",
            "|74             |216933          |0.0264      |0           |0.97  |0.00355         |0  |0.102   |-4.938  |1.0       |0.107      |122.444|4.0           |0.198        |\n",
            "|56             |223826          |9.54E-4     |0           |0.766 |0.0             |10 |0.113   |-5.065  |1.0       |0.0313     |172.011|4.0           |0.574        |\n",
            "|80             |235893          |0.00895     |0           |0.945 |1.85E-6         |4  |0.396   |-3.169  |0.0       |0.124      |189.931|4.0           |0.32         |\n",
            "|81             |199893          |5.04E-4     |0           |0.887 |0.00111         |4  |0.268   |-3.659  |0.0       |0.0624     |90.578 |4.0           |0.724        |\n",
            "|76             |213800          |0.00148     |0           |0.953 |5.82E-4         |2  |0.152   |-3.435  |1.0       |0.0855     |105.046|4.0           |0.537        |\n",
            "|80             |222586          |0.00108     |0           |0.936 |0.0             |1  |0.0926  |-3.66   |1.0       |0.0917     |148.112|4.0           |0.234        |\n",
            "|81             |203346          |0.00172     |0           |0.905 |0.0104          |9  |0.136   |-5.653  |1.0       |0.054      |153.398|4.0           |0.374        |\n",
            "|78             |168253          |0.0424      |0           |0.897 |0.0             |2  |0.263   |-3.401  |1.0       |0.0483     |161.944|4.0           |0.93         |\n",
            "|63             |185586          |0.0046      |0           |0.863 |0.0             |9  |0.639   |-4.153  |1.0       |0.0381     |110.018|4.0           |0.243        |\n",
            "|75             |209266          |0.00434     |1           |0.964 |0.0036          |9  |0.15    |-4.225  |0.0       |0.06       |126.942|4.0           |0.875        |\n",
            "|81             |269000          |0.0179      |0           |0.938 |0.0             |9  |0.167   |-3.442  |1.0       |0.0456     |91.455 |4.0           |0.875        |\n",
            "|69             |210240          |3.53E-4     |0           |0.929 |7.47E-4         |7  |0.122   |-3.899  |0.0       |0.121      |127.204|4.0           |0.3          |\n",
            "|77             |237026          |4.23E-4     |0           |0.676 |8.99E-4         |9  |0.136   |-8.821  |1.0       |0.0371     |104.545|4.0           |0.494        |\n",
            "|71             |227240          |0.00136     |1           |0.778 |6.79E-6         |11 |0.0841  |-6.423  |1.0       |0.0379     |110.022|4.0           |0.623        |\n",
            "|62             |256600          |0.00701     |0           |0.944 |2.9E-6          |1  |0.135   |-4.979  |0.0       |0.0767     |130.315|4.0           |0.345        |\n",
            "|77             |187613          |0.0938      |0           |0.795 |0.0             |9  |0.114   |-4.985  |0.0       |0.134      |170.06 |4.0           |0.635        |\n",
            "|79             |233933          |0.00664     |0           |0.865 |1.12E-5         |11 |0.168   |-5.708  |0.0       |0.0286     |99.01  |4.0           |0.543        |\n",
            "+---------------+----------------+------------+------------+------+----------------+---+--------+--------+----------+-----------+-------+--------------+-------------+\n",
            "only showing top 20 rows\n",
            "\n"
          ]
        }
      ],
      "source": [
        "df = df.na.drop(\"any\")\n",
        "dfAlt = df\n",
        "\n",
        "df = df.withColumn(\"danceability\", when(col(\"danceability\") > 0.645,lit(1)).otherwise(lit(0)))\n",
        "df.show(truncate=False)"
      ]
    },
    {
      "cell_type": "code",
      "execution_count": 173,
      "metadata": {
        "id": "uDlRGt2K7mSL",
        "colab": {
          "base_uri": "https://localhost:8080/"
        },
        "outputId": "3601f9e2-ed71-453b-ec1e-1e930076ce7a"
      },
      "outputs": [
        {
          "output_type": "stream",
          "name": "stdout",
          "text": [
            "+---------------+----------------+------------+------------+------+----------------+---+--------+--------+----------+-----------+-------+--------------+-------------+--------------------+\n",
            "|song_popularity|song_duration_ms|acousticness|danceability|energy|instrumentalness|key|liveness|loudness|audio_mode|speechiness|  tempo|time_signature|audio_valence|            features|\n",
            "+---------------+----------------+------------+------------+------+----------------+---+--------+--------+----------+-----------+-------+--------------+-------------+--------------------+\n",
            "|             73|          262333|     0.00552|           0| 0.682|         2.94E-5|  8|  0.0589|  -4.095|       1.0|     0.0294| 167.06|           4.0|        0.474|[73.0,262333.0,0....|\n",
            "|             66|          216933|      0.0103|           0| 0.853|             0.0|  3|   0.108|  -6.407|       0.0|     0.0498|105.256|           4.0|         0.37|[66.0,216933.0,0....|\n",
            "|             76|          231733|     0.00817|           1| 0.463|           0.447|  0|   0.255|  -7.828|       1.0|     0.0792|123.881|           4.0|        0.324|[76.0,231733.0,0....|\n",
            "|             74|          216933|      0.0264|           0|  0.97|         0.00355|  0|   0.102|  -4.938|       1.0|      0.107|122.444|           4.0|        0.198|[74.0,216933.0,0....|\n",
            "|             56|          223826|     9.54E-4|           0| 0.766|             0.0| 10|   0.113|  -5.065|       1.0|     0.0313|172.011|           4.0|        0.574|[56.0,223826.0,9....|\n",
            "+---------------+----------------+------------+------------+------+----------------+---+--------+--------+----------+-----------+-------+--------------+-------------+--------------------+\n",
            "only showing top 5 rows\n",
            "\n"
          ]
        }
      ],
      "source": [
        "cols = ['song_popularity',\n",
        " 'song_duration_ms',\n",
        " 'acousticness',\n",
        " 'energy',\n",
        " 'instrumentalness',\n",
        " 'key',\n",
        " 'liveness',\n",
        " 'loudness',\n",
        " 'audio_mode',\n",
        " 'speechiness',\n",
        " 'tempo',\n",
        " 'time_signature',\n",
        " 'audio_valence']\n",
        "stages= VectorAssembler(inputCols=cols, outputCol='features')\n",
        "\n",
        "df = stages.transform(df)\n",
        "df.show(5)"
      ]
    },
    {
      "cell_type": "code",
      "execution_count": 174,
      "metadata": {
        "id": "6qPV4Ur_PktM",
        "colab": {
          "base_uri": "https://localhost:8080/"
        },
        "outputId": "2d3eeaea-ed60-40ba-84d5-0e6a2e7217f7"
      },
      "outputs": [
        {
          "output_type": "stream",
          "name": "stdout",
          "text": [
            "+--------------------+------------+\n",
            "|            features|danceability|\n",
            "+--------------------+------------+\n",
            "|[73.0,262333.0,0....|           0|\n",
            "|[66.0,216933.0,0....|           0|\n",
            "|[76.0,231733.0,0....|           1|\n",
            "|[74.0,216933.0,0....|           0|\n",
            "|[56.0,223826.0,9....|           0|\n",
            "+--------------------+------------+\n",
            "only showing top 5 rows\n",
            "\n"
          ]
        }
      ],
      "source": [
        "dfModel = df.select(['features', 'danceability'])\n",
        "dfModel.show(5)"
      ]
    },
    {
      "cell_type": "code",
      "source": [
        "dfModelB = dfModel.withColumnRenamed('danceability', 'label')\n",
        "dfModelB.show(5)"
      ],
      "metadata": {
        "colab": {
          "base_uri": "https://localhost:8080/"
        },
        "id": "NnOv9n_G7lho",
        "outputId": "38b5a0eb-9db0-4975-e131-ef7c41b9b288"
      },
      "execution_count": 175,
      "outputs": [
        {
          "output_type": "stream",
          "name": "stdout",
          "text": [
            "+--------------------+-----+\n",
            "|            features|label|\n",
            "+--------------------+-----+\n",
            "|[73.0,262333.0,0....|    0|\n",
            "|[66.0,216933.0,0....|    0|\n",
            "|[76.0,231733.0,0....|    1|\n",
            "|[74.0,216933.0,0....|    0|\n",
            "|[56.0,223826.0,9....|    0|\n",
            "+--------------------+-----+\n",
            "only showing top 5 rows\n",
            "\n"
          ]
        }
      ]
    },
    {
      "cell_type": "code",
      "execution_count": 176,
      "metadata": {
        "id": "k_PEIjoOQPoF"
      },
      "outputs": [],
      "source": [
        "train,test= dfModel.randomSplit([0.75,0.25])\n",
        "trainB,testB= dfModelB.randomSplit([0.75,0.25])\n",
        "trainC,testC= dfModelB.randomSplit([0.75,0.25])"
      ]
    },
    {
      "cell_type": "code",
      "execution_count": 177,
      "metadata": {
        "id": "uobCEHm1RZZu",
        "colab": {
          "base_uri": "https://localhost:8080/"
        },
        "outputId": "0269f80a-974b-4ada-ee82-aaa075e242da"
      },
      "outputs": [
        {
          "output_type": "stream",
          "name": "stdout",
          "text": [
            "+--------------------+------------+\n",
            "|            features|danceability|\n",
            "+--------------------+------------+\n",
            "|(13,[1,2,3,5,6,7,...|           0|\n",
            "|[0.0,80672.0,0.14...|           1|\n",
            "|[0.0,102560.0,0.1...|           1|\n",
            "|[0.0,110560.0,0.7...|           1|\n",
            "|[0.0,120000.0,0.5...|           1|\n",
            "+--------------------+------------+\n",
            "only showing top 5 rows\n",
            "\n"
          ]
        }
      ],
      "source": [
        "train.show(5)"
      ]
    },
    {
      "cell_type": "code",
      "source": [
        "trainB.show(5)"
      ],
      "metadata": {
        "colab": {
          "base_uri": "https://localhost:8080/"
        },
        "id": "hDh79uKxZneO",
        "outputId": "1221e404-10eb-4dc7-8a99-04d03112347f"
      },
      "execution_count": 178,
      "outputs": [
        {
          "output_type": "stream",
          "name": "stdout",
          "text": [
            "+--------------------+-----+\n",
            "|            features|label|\n",
            "+--------------------+-----+\n",
            "|[0.0,80672.0,0.14...|    1|\n",
            "|[0.0,120000.0,0.5...|    1|\n",
            "|[0.0,139200.0,0.3...|    1|\n",
            "|[0.0,139200.0,0.3...|    1|\n",
            "|[0.0,141093.0,0.1...|    1|\n",
            "+--------------------+-----+\n",
            "only showing top 5 rows\n",
            "\n"
          ]
        }
      ]
    },
    {
      "cell_type": "markdown",
      "source": [
        "### Logistic Regression"
      ],
      "metadata": {
        "id": "IP-dbYoePGYq"
      }
    },
    {
      "cell_type": "code",
      "execution_count": 179,
      "metadata": {
        "id": "k2_R0OZGtRIl"
      },
      "outputs": [],
      "source": [
        "lr = LogisticRegression(labelCol = 'danceability', featuresCol = 'features', maxIter = 100, regParam = 0.001, elasticNetParam=1, standardization=True)\n",
        "\n",
        "linearR = lr.fit(train)\n",
        "best_model_lr = linearR.summary"
      ]
    },
    {
      "cell_type": "code",
      "execution_count": 180,
      "metadata": {
        "id": "LF-QMm_zx_8m",
        "colab": {
          "base_uri": "https://localhost:8080/"
        },
        "outputId": "9b1e494f-0c6d-45d4-ba92-9407fd5fac63"
      },
      "outputs": [
        {
          "output_type": "stream",
          "name": "stderr",
          "text": [
            "/usr/local/lib/python3.7/dist-packages/pyspark/sql/context.py:127: FutureWarning: Deprecated in 3.0.0. Use SparkSession.builder.getOrCreate() instead.\n",
            "  FutureWarning\n"
          ]
        },
        {
          "output_type": "stream",
          "name": "stdout",
          "text": [
            "+--------------------+------------+--------------------+--------------------+----------+\n",
            "|            features|danceability|       rawPrediction|         probability|prediction|\n",
            "+--------------------+------------+--------------------+--------------------+----------+\n",
            "|(13,[1,2,3,5,6,7,...|         0.0|[2.99172835699151...|[0.95219903960860...|       0.0|\n",
            "|[0.0,80672.0,0.14...|         1.0|[-0.6709330811427...|[0.33828793981474...|       1.0|\n",
            "|[0.0,102560.0,0.1...|         1.0|[-3.0787002314276...|[0.04399444989264...|       1.0|\n",
            "|[0.0,110560.0,0.7...|         1.0|[1.69233332682757...|[0.84453076864868...|       0.0|\n",
            "|[0.0,120000.0,0.5...|         1.0|[-0.9160770377551...|[0.28575789875591...|       1.0|\n",
            "+--------------------+------------+--------------------+--------------------+----------+\n",
            "only showing top 5 rows\n",
            "\n",
            "Coefficients: [0.0058238647246771314,-1.8997935833363025e-06,-1.8194098521046378,-4.440117365205191,0.6833512050366433,-0.0075205024883617634,-1.0479415981088016,0.15812304505095634,-0.3403400133787953,3.6603944938819355,-0.009123079931339869,0.42436901286774154,3.275222171859428]\n",
            "Intercept: 2.330393585561911\n"
          ]
        }
      ],
      "source": [
        "best_model_lr.predictions.show(5)\n",
        "print(\"Coefficients: \" + str(linearR.coefficients))\n",
        "print(\"Intercept: \" + str(linearR.intercept))"
      ]
    },
    {
      "cell_type": "code",
      "execution_count": 181,
      "metadata": {
        "id": "_N1ee7I0yOd7",
        "colab": {
          "base_uri": "https://localhost:8080/"
        },
        "outputId": "9976abf4-eb34-419f-dbdf-ee1254d45174"
      },
      "outputs": [
        {
          "output_type": "stream",
          "name": "stdout",
          "text": [
            "+--------------------+------------+--------------------+--------------------+----------+\n",
            "|            features|danceability|       rawPrediction|         probability|prediction|\n",
            "+--------------------+------------+--------------------+--------------------+----------+\n",
            "|[0.0,139200.0,0.3...|           1|[-0.7183369132249...|[0.32775931105234...|       1.0|\n",
            "|[0.0,141093.0,0.1...|           1|[-0.5675501979638...|[0.36180229583072...|       1.0|\n",
            "|[0.0,141586.0,0.0...|           1|[-1.0472997840591...|[0.25974395340756...|       1.0|\n",
            "|[0.0,149200.0,0.0...|           0|[1.14421280767822...|[0.75845227568200...|       0.0|\n",
            "|[0.0,151062.0,0.4...|           1|[-0.7842187319106...|[0.31341136576878...|       1.0|\n",
            "+--------------------+------------+--------------------+--------------------+----------+\n",
            "only showing top 5 rows\n",
            "\n"
          ]
        }
      ],
      "source": [
        "predictions_lr = linearR.transform(test)\n",
        "predictions_lr.show(5)"
      ]
    },
    {
      "cell_type": "code",
      "execution_count": 182,
      "metadata": {
        "id": "cedmXqtvywMS",
        "colab": {
          "base_uri": "https://localhost:8080/"
        },
        "outputId": "8d4773cf-9894-41e4-bb98-6604d25c50da"
      },
      "outputs": [
        {
          "output_type": "stream",
          "name": "stdout",
          "text": [
            "+------------+----------+-----+\n",
            "|danceability|prediction|count|\n",
            "+------------+----------+-----+\n",
            "|           1|       0.0|  684|\n",
            "|           0|       0.0| 1622|\n",
            "|           1|       1.0| 1588|\n",
            "|           0|       1.0|  762|\n",
            "+------------+----------+-----+\n",
            "\n"
          ]
        }
      ],
      "source": [
        "predictions_lr.groupBy('danceability','prediction').count().show()"
      ]
    },
    {
      "cell_type": "code",
      "source": [
        "#True Positive Rate = True Positives / (True Positives + False Negatives)\n",
        "#Sensitivity = True Positives / (True Positives + False Negatives)\n",
        "#False Positive Rate = False Positives / (False Positives + True Negatives)\n",
        "#Specificity = True Negatives / (True Negatives + False Positives)\n",
        "#False Positive Rate = 1 - Specificity\n",
        "\n",
        "evaluatorLR = MulticlassClassificationEvaluator(labelCol=\"danceability\", predictionCol=\"prediction\",metricName=\"accuracy\")\n",
        "accuracyLR = evaluatorLR.evaluate(predictions_lr)\n",
        "\n",
        "#precision\n",
        "#tp/(tp + fp)\n",
        "precisionLR = 1697/(1697 + 797)\n",
        "recallLR = 1697/(1697 + 702)\n",
        "f1LR = (2 *0.68 * 0.7)/(0.68 + 0.7)\n",
        "\n",
        "print(\"The accuracy is:\", accuracyLR)\n",
        "print(\"The precision is:\", precisionLR)\n",
        "print(\"The recall is:\", recallLR)\n",
        "print(\"The f1 score is:\", f1LR)"
      ],
      "metadata": {
        "id": "xE0MeFCwudzK",
        "colab": {
          "base_uri": "https://localhost:8080/"
        },
        "outputId": "70b8a7b0-72fe-48cf-f997-c3e1691f372a"
      },
      "execution_count": 183,
      "outputs": [
        {
          "output_type": "stream",
          "name": "stdout",
          "text": [
            "The accuracy is: 0.6894329896907216\n",
            "The precision is: 0.6804330392943063\n",
            "The recall is: 0.7073780741975824\n",
            "The f1 score is: 0.6898550724637681\n"
          ]
        }
      ]
    },
    {
      "cell_type": "markdown",
      "source": [
        "Random Forest"
      ],
      "metadata": {
        "id": "2ZQ6L123z1b3"
      }
    },
    {
      "cell_type": "code",
      "source": [
        "from pyspark.ml.classification import DecisionTreeClassifier# train our model using training data\n",
        "dt = DecisionTreeClassifier(labelCol=\"label\", featuresCol=\"features\")\n",
        "modelRF = dt.fit(trainB)\n",
        "\n",
        "# test our model and make predictions using testing data\n",
        "predictionsRF = modelRF.transform(testB)\n",
        "predictionsRF.show(5)"
      ],
      "metadata": {
        "id": "7B5uoYoX7Owy",
        "colab": {
          "base_uri": "https://localhost:8080/"
        },
        "outputId": "513e0be6-50f2-43bd-90ab-9761b2921c20"
      },
      "execution_count": 184,
      "outputs": [
        {
          "output_type": "stream",
          "name": "stdout",
          "text": [
            "+--------------------+-----+--------------+--------------------+----------+\n",
            "|            features|label| rawPrediction|         probability|prediction|\n",
            "+--------------------+-----+--------------+--------------------+----------+\n",
            "|(13,[1,2,3,5,6,7,...|    0|[2315.0,716.0]|[0.76377433190366...|       0.0|\n",
            "|[0.0,102560.0,0.1...|    1|[638.0,2173.0]|[0.22696549270722...|       1.0|\n",
            "|[0.0,110560.0,0.7...|    1|[957.0,1048.0]|[0.47730673316708...|       1.0|\n",
            "|[0.0,126140.0,0.9...|    1|   [29.0,24.0]|[0.54716981132075...|       0.0|\n",
            "|[0.0,145500.0,0.0...|    1| [706.0,163.0]|[0.81242807825086...|       0.0|\n",
            "+--------------------+-----+--------------+--------------------+----------+\n",
            "only showing top 5 rows\n",
            "\n"
          ]
        }
      ]
    },
    {
      "cell_type": "code",
      "source": [
        "predictionsRF.groupBy('label','prediction').count().show()"
      ],
      "metadata": {
        "id": "jF92ZCIqTfPY",
        "colab": {
          "base_uri": "https://localhost:8080/"
        },
        "outputId": "306a63e4-7b20-49d5-b910-dd823d3375cb"
      },
      "execution_count": 185,
      "outputs": [
        {
          "output_type": "stream",
          "name": "stdout",
          "text": [
            "+-----+----------+-----+\n",
            "|label|prediction|count|\n",
            "+-----+----------+-----+\n",
            "|    1|       0.0|  474|\n",
            "|    0|       0.0| 1492|\n",
            "|    1|       1.0| 1863|\n",
            "|    0|       1.0|  850|\n",
            "+-----+----------+-----+\n",
            "\n"
          ]
        }
      ]
    },
    {
      "cell_type": "code",
      "source": [
        "#True Positive Rate = True Positives / (True Positives + False Negatives)\n",
        "#Sensitivity = True Positives / (True Positives + False Negatives)\n",
        "#False Positive Rate = False Positives / (False Positives + True Negatives)\n",
        "#Specificity = True Negatives / (True Negatives + False Positives)\n",
        "#False Positive Rate = 1 - Specificity\n",
        "\n",
        "evaluatorRF = MulticlassClassificationEvaluator(labelCol=\"label\", predictionCol=\"prediction\",metricName=\"accuracy\")\n",
        "accuracyRF = evaluatorRF.evaluate(predictionsRF)\n",
        "\n",
        "#precision\n",
        "#tp/(tp + fp)\n",
        "#(2 * Precision * Recall) / (Precision + Recall)\n",
        "precisionRF = 1877/(1877 + 921)\n",
        "recallRF = 1877/(1877 + 478)\n",
        "f1RF = (2 *0.67 * 0.8)/(0.67 + 0.8)\n",
        "\n",
        "print(\"The accuracy is:\", accuracyRF)\n",
        "print(\"The precision is:\", precisionRF)\n",
        "print(\"The recall is:\", recallRF)\n",
        "print(\"The f1 score is:\", f1RF)"
      ],
      "metadata": {
        "id": "yoclcxvbUM52",
        "colab": {
          "base_uri": "https://localhost:8080/"
        },
        "outputId": "42550789-8f6d-491e-decf-ad13a3c259a4"
      },
      "execution_count": 186,
      "outputs": [
        {
          "output_type": "stream",
          "name": "stdout",
          "text": [
            "The accuracy is: 0.7170335541782432\n",
            "The precision is: 0.6708363116511794\n",
            "The recall is: 0.797027600849257\n",
            "The f1 score is: 0.729251700680272\n"
          ]
        }
      ]
    },
    {
      "cell_type": "markdown",
      "source": [
        "Linear SVC"
      ],
      "metadata": {
        "id": "qgtHLWuWR3Vo"
      }
    },
    {
      "cell_type": "code",
      "source": [
        "lsvc = LinearSVC(maxIter=10, regParam=0.1)\n",
        "lsvcModel = lsvc.fit(trainC)\n",
        "\n",
        "predictionsSVC = lsvcModel.transform(testC)"
      ],
      "metadata": {
        "id": "441lzgOln8uH"
      },
      "execution_count": 187,
      "outputs": []
    },
    {
      "cell_type": "code",
      "source": [
        "predictionsSVC.show(5)"
      ],
      "metadata": {
        "id": "Bk8T2mObN70W",
        "colab": {
          "base_uri": "https://localhost:8080/"
        },
        "outputId": "10f0d344-39a3-4739-b055-c095622c40f8"
      },
      "execution_count": 188,
      "outputs": [
        {
          "output_type": "stream",
          "name": "stdout",
          "text": [
            "+--------------------+-----+--------------------+----------+\n",
            "|            features|label|       rawPrediction|prediction|\n",
            "+--------------------+-----+--------------------+----------+\n",
            "|(13,[1,2,3,5,6,7,...|    0|[2.34332398997175...|       0.0|\n",
            "|[0.0,110560.0,0.7...|    1|[0.95935746461157...|       0.0|\n",
            "|[0.0,141093.0,0.1...|    1|[-0.3049785074694...|       1.0|\n",
            "|[0.0,141586.0,0.0...|    1|[-0.6105614875447...|       1.0|\n",
            "|[0.0,143505.0,0.0...|    1|[-0.1957124012558...|       1.0|\n",
            "+--------------------+-----+--------------------+----------+\n",
            "only showing top 5 rows\n",
            "\n"
          ]
        }
      ]
    },
    {
      "cell_type": "code",
      "source": [
        "predictionsSVC.groupBy('label','prediction').count().show()"
      ],
      "metadata": {
        "id": "un-RXIMyYCHN",
        "colab": {
          "base_uri": "https://localhost:8080/"
        },
        "outputId": "41ca77cf-d79f-4f9f-8549-6678d24c3135"
      },
      "execution_count": 189,
      "outputs": [
        {
          "output_type": "stream",
          "name": "stdout",
          "text": [
            "+-----+----------+-----+\n",
            "|label|prediction|count|\n",
            "+-----+----------+-----+\n",
            "|    1|       0.0|  694|\n",
            "|    0|       0.0| 1548|\n",
            "|    1|       1.0| 1611|\n",
            "|    0|       1.0|  746|\n",
            "+-----+----------+-----+\n",
            "\n"
          ]
        }
      ]
    },
    {
      "cell_type": "code",
      "source": [
        "evaluatorSVC = MulticlassClassificationEvaluator(labelCol=\"label\", predictionCol=\"prediction\",metricName=\"accuracy\")\n",
        "accuracySVC = evaluatorSVC.evaluate(predictionsSVC)\n",
        "\n",
        "precisionRF = 1602/(1602 + 681)\n",
        "recallRF = 1602/(1602 + 780)\n",
        "f1RF = (2 *0.7 * 0.67)/(0.7 + 0.67)\n",
        "\n",
        "print(\"The accuracy is:\", accuracyRF)\n",
        "print(\"The precision is:\", precisionRF)\n",
        "print(\"The recall is:\", recallRF)\n",
        "print(\"The f1 score is:\", f1RF)"
      ],
      "metadata": {
        "id": "IKhqxAiQN3pQ",
        "colab": {
          "base_uri": "https://localhost:8080/"
        },
        "outputId": "8eedd5e5-03ba-40bd-95b9-692085df610a"
      },
      "execution_count": 190,
      "outputs": [
        {
          "output_type": "stream",
          "name": "stdout",
          "text": [
            "The accuracy is: 0.7170335541782432\n",
            "The precision is: 0.7017082785808147\n",
            "The recall is: 0.672544080604534\n",
            "The f1 score is: 0.6846715328467152\n"
          ]
        }
      ]
    }
  ],
  "metadata": {
    "colab": {
      "name": "632 Final Project.ipynb",
      "provenance": []
    },
    "kernelspec": {
      "display_name": "Python 3",
      "name": "python3"
    },
    "language_info": {
      "name": "python"
    }
  },
  "nbformat": 4,
  "nbformat_minor": 0
}